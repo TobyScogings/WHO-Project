{
 "cells": [
  {
   "cell_type": "markdown",
   "id": "005f3e0d-8bec-413b-90a4-a11249e8b1bb",
   "metadata": {},
   "source": [
    "<h4>Data and Module Importing</h4>"
   ]
  },
  {
   "cell_type": "code",
   "execution_count": 31,
   "id": "f2e5bc1f-f87a-4ec6-beee-6fe6aa562326",
   "metadata": {
    "jupyter": {
     "source_hidden": true
    }
   },
   "outputs": [
    {
     "data": {
      "text/plain": [
       "(2864, 21)"
      ]
     },
     "execution_count": 31,
     "metadata": {},
     "output_type": "execute_result"
    }
   ],
   "source": [
    "import numpy as np\n",
    "import pandas as pd\n",
    "import seaborn as sns\n",
    "import matplotlib.pyplot as plt\n",
    "\n",
    "from sklearn.model_selection import train_test_split\n",
    "\n",
    "from sklearn.preprocessing import StandardScaler, RobustScaler, MinMaxScaler\n",
    "\n",
    "import statsmodels.api as sm\n",
    "import statsmodels.tools\n",
    "\n",
    "from statsmodels.stats.outliers_influence import variance_inflation_factor\n",
    "\n",
    "df = pd.read_csv(\"C:\\\\Users\\\\Toby\\\\Documents\\\\Digital Futures\\\\Projects\\\\WHO Project\\\\Life Expectancy Data.csv\")\n",
    "df.shape"
   ]
  },
  {
   "cell_type": "markdown",
   "id": "597bffc3-eb32-4c7e-b94c-bec97efc81f0",
   "metadata": {},
   "source": [
    "<h4>Train-Test Split</h4>"
   ]
  },
  {
   "cell_type": "code",
   "execution_count": null,
   "id": "88f8959a-9bf8-410e-a919-a8dd6f0c4471",
   "metadata": {
    "jupyter": {
     "source_hidden": true
    }
   },
   "outputs": [],
   "source": [
    "feature_cols = list(df.columns)\n",
    "feature_cols.remove('Life_expectancy')\n",
    "\n",
    "X = df[feature_cols]\n",
    "y = df['Life_expectancy']\n",
    "\n",
    "X_train, X_test, y_train, y_test = train_test_split(X, y, test_size = 0.2, random_state = 10)"
   ]
  },
  {
   "cell_type": "markdown",
   "id": "aa7366d3-feef-4b69-8425-c9e3d7f2d10c",
   "metadata": {},
   "source": [
    "<h2>Interactive Model Selection and Outputs</h2>"
   ]
  },
  {
   "cell_type": "code",
   "execution_count": 407,
   "id": "e69df860-815f-4461-82b0-ac8fc7ce3b9f",
   "metadata": {},
   "outputs": [
    {
     "name": "stdin",
     "output_type": "stream",
     "text": [
      "Do you want to run the full model (1) or run a censored model to cover sensitive data (2)?\n",
      "    Enter your option here:  3\n"
     ]
    },
    {
     "name": "stdout",
     "output_type": "stream",
     "text": [
      "This is not one of the options. Please enter either 1 or 2 to choose your model\n"
     ]
    },
    {
     "name": "stdin",
     "output_type": "stream",
     "text": [
      "Do you want to run the full model (1) or run a censored model to cover sensitive data (2)?\n",
      "    Enter your option here:  3\n"
     ]
    },
    {
     "name": "stdout",
     "output_type": "stream",
     "text": [
      "This is not one of the options. Please enter either 1 or 2 to choose your model\n"
     ]
    },
    {
     "name": "stdin",
     "output_type": "stream",
     "text": [
      "Do you want to run the full model (1) or run a censored model to cover sensitive data (2)?\n",
      "    Enter your option here:  3\n"
     ]
    },
    {
     "name": "stdout",
     "output_type": "stream",
     "text": [
      "This is not one of the options. Please enter either 1 or 2 to choose your model\n"
     ]
    },
    {
     "name": "stdin",
     "output_type": "stream",
     "text": [
      "Do you want to run the full model (1) or run a censored model to cover sensitive data (2)?\n",
      "    Enter your option here:  1\n"
     ]
    },
    {
     "name": "stdout",
     "output_type": "stream",
     "text": [
      "\n",
      "The following shows the level of success our full model has with predicting life expectancy:\n",
      "\n",
      "\n",
      "P-Values:\n",
      "\n",
      "const                                   0.000\n",
      "Year                                    0.000\n",
      "Under_five_deaths                       0.000\n",
      "Adult_mortality                         0.000\n",
      "Alcohol_consumption                     0.057\n",
      "Hepatitis_B                             0.002\n",
      "BMI                                     0.000\n",
      "Polio                                   0.000\n",
      "Diphtheria                              0.014\n",
      "Incidents_HIV                           0.000\n",
      "Thinness_ten_nineteen_years             0.001\n",
      "Schooling                               0.000\n",
      "Economy_status_Developed                0.000\n",
      "Region_Asia                             0.032\n",
      "Region_Central America and Caribbean    0.000\n",
      "Region_European Union                   0.000\n",
      "Region_Middle East                      0.115\n",
      "Region_North America                    0.006\n",
      "Region_Oceania                          0.000\n",
      "Region_Rest of Europe                   0.000\n",
      "Region_South America                    0.000\n",
      "log_GDP                                 0.000\n",
      "dtype: float64\n",
      "\n",
      "R-Squared:\n",
      "    \n",
      "0.9835984532011136\n",
      "    \n",
      "AIC and BIC:\n",
      "    \n",
      "7390.805609995028\n",
      "7517.013971009005\n",
      "    \n",
      "Condition Number:\n",
      "    \n",
      "12.705236589289497\n",
      "\n",
      "RMSE:\n",
      "\n",
      "1.2025776779399533\n",
      "\n",
      "The equation derived from our linear regression model is:\n",
      "\n",
      "y = 68.868 + 0.1834*Year + -3.4189*Under_five_deaths + -5.3247*Adult_mortality + -0.089*Alcohol_consumption + -0.1266*Hepatitis_B + -0.4056*BMI + 0.3417*Polio + -0.228*Diphtheria + 0.1931*Incidents_HIV + -0.1251*Thinness_ten_nineteen_years + 0.2649*Schooling + 1.0693*Economy_status_Developed + 0.0844*Region_Asia + 0.5687*Region_Central America and Caribbean + -0.2343*Region_European Union + 0.0585*Region_Middle East + 0.0846*Region_North America + -0.2057*Region_Oceania + 0.1471*Region_Rest of Europe + 0.3875*Region_South America + 0.652*log_GDP\n",
      "\n",
      "For comparison, the optimal condition number found using VIF is 6.59316008302239\n"
     ]
    },
    {
     "name": "stderr",
     "output_type": "stream",
     "text": [
      "C:\\Users\\Toby\\AppData\\Local\\Temp\\ipykernel_31056\\2673654201.py:42: FutureWarning: Passing literal html to 'read_html' is deprecated and will be removed in a future version. To read from a literal string, wrap it in a 'StringIO' object.\n",
      "  coef_df = pd.read_html(results.summary().tables[1].as_html(),header=0,index_col=0)[0]\n"
     ]
    }
   ],
   "source": [
    "model_selection()"
   ]
  },
  {
   "cell_type": "markdown",
   "id": "a1d28693-7344-487c-a3fe-569e92855670",
   "metadata": {},
   "source": [
    "<h4>Behind the Scenes Workings</h4>"
   ]
  },
  {
   "cell_type": "code",
   "execution_count": 401,
   "id": "b3b8c152-b0b1-4890-99a2-d20f8b9b73ad",
   "metadata": {},
   "outputs": [],
   "source": [
    "def model_selection():\n",
    "\n",
    "    # Error Handling\n",
    "    \n",
    "    try: model_choice = int(input(\"\"\"Do you want to run the full model (1) or run a censored model to cover sensitive data (2)?\n",
    "    Enter your option here: \"\"\"))\n",
    "    except:\n",
    "        print(\"Invalid input. Please enter either 1 or 2 to choose your model\")\n",
    "        model_selection()\n",
    "\n",
    "    if model_choice == 1:\n",
    "\n",
    "    # Model FE and defining stage\n",
    "    \n",
    "        X_train_fe = feature_eng_full(X_train)\n",
    "        model_cols = X_train_fe.columns\n",
    "\n",
    "    # Model Metrics\n",
    "        global model_state\n",
    "        model_state = \"full\"\n",
    "        modelling(model_cols)\n",
    "        print(\"\\nThe equation derived from our linear regression model is:\")\n",
    "        print()\n",
    "        print(equation) \n",
    "        print() \n",
    "\n",
    "        lin_reg = sm.OLS(y_train, X_train_fe[optimal_cols])\n",
    "        results = lin_reg.fit()\n",
    "        print(f\"For comparison, the optimal condition number found using VIF is {results.condition_number}\")\n",
    "\n",
    "\n",
    "    elif model_choice == 2:\n",
    "        print(\"This is a placeholder for the sensitive model\")\n",
    "    else:\n",
    "        print(\"This is not one of the options. Please enter either 1 or 2 to choose your model\")\n",
    "        model_selection()"
   ]
  },
  {
   "cell_type": "code",
   "execution_count": 281,
   "id": "9792513e-770d-40d7-bcae-20706702e7bd",
   "metadata": {},
   "outputs": [],
   "source": [
    "def feature_eng_full(data):\n",
    "    data = data.copy()\n",
    "\n",
    "    # Removing autocorrelated columns\n",
    "    \n",
    "    data = data.drop(columns = ['Country', 'Economy_status_Developing', 'Infant_deaths'])\n",
    "    \n",
    "    # One hot encoding\n",
    "    \n",
    "    data = pd.get_dummies(data, columns = ['Region'], drop_first = True, prefix = 'Region', dtype=int) \n",
    "\n",
    "    # Fixing exponential relationship\n",
    "\n",
    "    data['log_GDP'] =  np.log(data['GDP_per_capita'])\n",
    "\n",
    "    # Scaling\n",
    "    \n",
    "    scaler = StandardScaler()\n",
    "    data[data.columns] = scaler.fit_transform(data[data.columns])\n",
    "\n",
    "    # Removing columns we are not interested in for our model\n",
    "\n",
    "    data = data.drop(columns = ['Measles', 'GDP_per_capita', 'Population_mln', 'Thinness_five_nine_years'])\n",
    "    \n",
    "    # VIF\n",
    "\n",
    "    data_col = data.columns\n",
    "    \n",
    "    calculate_vif(data[data_col])\n",
    "    \n",
    "    data = sm.add_constant(data)\n",
    "    return data"
   ]
  },
  {
   "cell_type": "code",
   "execution_count": 19,
   "id": "4faed6ae-1f88-4f96-bfdb-cedf6df22e4d",
   "metadata": {},
   "outputs": [],
   "source": [
    "def calculate_vif(X, thresh = 5.0):\n",
    "    variables = list(range(X.shape[1]))\n",
    "    dropped = True\n",
    "    while dropped:\n",
    "        dropped = False\n",
    "        # this bit uses list comprehension to gather all the VIF values of the different variables\n",
    "        vif = [variance_inflation_factor(X.iloc[:, variables].values, ix)\n",
    "               for ix in range(X.iloc[:, variables].shape[1])]\n",
    "        \n",
    "        maxloc = vif.index(max(vif)) # getting the index of the highest VIF value\n",
    "        if max(vif) > thresh:\n",
    "            del variables[maxloc] # we delete the highest VIF value on condition that it's higher than the threshold\n",
    "            dropped = True # if we deleted anything, we set the 'dropped' value to True to stay in the while loop    \n",
    "    \n",
    "    global optimal_cols \n",
    "    optimal_cols = list(X.columns[variables])\n",
    "    optimal_cols.append('const')\n",
    "\n",
    "    # We now create a global variable and assign the list of columns still in the valid set to it, remembering to add the constant back in. We can use this to check for an optimal condition number.\n",
    "    \n",
    "    return optimal_cols"
   ]
  },
  {
   "cell_type": "code",
   "execution_count": 349,
   "id": "c03312c3-8d79-470d-8c32-d4c5d91ccc71",
   "metadata": {},
   "outputs": [],
   "source": [
    "def modelling(col):\n",
    "\n",
    "    # Modelling Stage\n",
    "    \n",
    "    lin_reg = sm.OLS(y_train, X_train_fe[col])\n",
    "    results = lin_reg.fit()\n",
    "\n",
    "    # Metrics Observations \n",
    "    \n",
    "    print(f\"\\nThe following shows the level of success our {model_state} model has with predicting life expectancy:\\n\")\n",
    "    print(f\"\"\"\n",
    "P-Values:\n",
    "\n",
    "{round(results.pvalues,3)}\n",
    "\n",
    "R-Squared:\n",
    "    \n",
    "{results.rsquared}\n",
    "    \n",
    "AIC and BIC:\n",
    "    \n",
    "{results.aic}\n",
    "{results.bic}\n",
    "    \n",
    "Condition Number:\n",
    "    \n",
    "{results.condition_number}\n",
    "\"\"\")\n",
    "\n",
    "    # Coefficient\n",
    "    # print()\n",
    "    # coefficients = results.params\n",
    "    # print(list(coefficients))\n",
    "    # print()\n",
    "\n",
    "    # From stackoverflow.com - 'user idiot-tom' - this shows how to extract the coefficients from our results and insert it into a data frame. We then are able to put them into a dictionary which\n",
    "    # will be used to form the equation used for predictions.\n",
    "\n",
    "    global coef_df\n",
    "    global coefficients\n",
    "    global equation\n",
    "    coef_df = pd.read_html(results.summary().tables[1].as_html(),header=0,index_col=0)[0]\n",
    "    # a=coef_df['coef'].values[1]\n",
    "    # c=coef_df['coef'].values[0]\n",
    "    coefficients = coef_df['coef'].to_dict()\n",
    "\n",
    "    equation = f\"y = {coefficients['const']}\"\n",
    "    for c, d in coefficients.items():\n",
    "        if c != 'const':\n",
    "            equation += f\" + {d}*{c}\"\n",
    "    \n",
    "    # RMSE Calculations\n",
    "    \n",
    "    y_pred = results.predict(X_train_fe[col])\n",
    "    rmse = statsmodels.tools.eval_measures.rmse(y_train, y_pred)\n",
    "    print(f\"RMSE:\\n\\n{rmse}\")\n",
    "    # print(results.summary())"
   ]
  },
  {
   "cell_type": "code",
   "execution_count": 383,
   "id": "fcd3e6bf-e93d-4a4f-8079-6edfd6679e05",
   "metadata": {},
   "outputs": [],
   "source": [
    "def user_inputs_1():\n",
    "\n",
    "    # List of features included in our final full model\n",
    "    \n",
    "    user_values = ['year', 'U5 Deaths per 1000', 'adult mortality rate',\n",
    "       'alcohol consumption', 'hepatitis B immunization (%)', 'BMI', 'polio immunization (%)',\n",
    "       'diphtheria immunization (%)', 'HIV per 1000', \n",
    "       'thinness between 10-19', 'schooling years',\n",
    "       'economy status (Developed or Developing)', 'region', 'GDP']\n",
    "\n",
    "    # Initialise a dictionary to store the users inputs\n",
    "    \n",
    "    user_dict = {}\n",
    "\n",
    "    # Define lists to use in input checking - these features are grouped by the upper limit of their input\n",
    "    \n",
    "    limit1000 = ['U5 Deaths per 1000', 'adult mortality rate', 'HIV per 1000']\n",
    "    limit100 = ['hepatitis B immunization (%)', 'polio immunization (%)', 'diphtheria immunization (%)', 'thinness between 10-19']\n",
    "    #regions = \n",
    "\n",
    "    # Section used to take in user inputs\n",
    "\n",
    "    for each in user_values:       # Creates a new input for every feature in the model\n",
    "\n",
    "        # For features that require text inputs, a regular input is used. Once an input is taken, it is added into the dictionary under the respective feature.\n",
    "        \n",
    "        if each in ['economy status (Developed or Developing)', 'region']:\n",
    "            user_input = input(f\"Please enter your value for {each}: \")\n",
    "            user_dict[each] = user_input\n",
    "\n",
    "        # For features that require an integer input, there is some checking that must be done. The try exception ensures that only numbers can be used as an input and it will keep asking for\n",
    "        # a number until the user inputs one.\n",
    "        \n",
    "        else:\n",
    "            while True:\n",
    "                try:\n",
    "                    user_input = int(input(f\"Please enter your value for {each}: \"))\n",
    "\n",
    "                    # This section is used for data checking too. Some features have maximum limits for them to make sense (E.g. You cannot have 101% of a population!). This is where\n",
    "                    # the inputs are checked to ensure they follow the rules.\n",
    "                    \n",
    "                    if each in limit100 and user_input > 100:\n",
    "                        print(f\"{each.title()} must be less than 100, please enter a new value\")\n",
    "                    elif each in limit1000 and user_input > 1000:\n",
    "                        print(f\"{each.title()} must be less than 1000, please enter a new value\")\n",
    "\n",
    "                    # Once the user has entered a valid input, it is entered into the dictionary and the checks are ended. It then moves onto the next input (or ends if it is the last input)\n",
    "                    \n",
    "                    else:\n",
    "                        user_dict[each] = user_input\n",
    "                        break\n",
    "                except:\n",
    "                    print(\"This must be an integer, try again\")\n",
    "\n",
    "    # Prints the dictionary of the user's inputs\n",
    "            \n",
    "    for a, b in user_dict.items():\n",
    "        print(f\"{a.title()}: {b}\")\n",
    "    global input_df\n",
    "    input_df = pd.DataFrame(columns=[\n",
    "    'Year', 'Under_five_deaths', 'Adult_mortality',\n",
    "       'Alcohol_consumption', 'Hepatitis_B', 'BMI', 'Polio', 'Diphtheria',\n",
    "       'Incidents_HIV', 'Thinness_ten_nineteen_years', 'Schooling',\n",
    "       'Economy_status_Developed', 'Region', 'GDP_per_capita'])"
   ]
  },
  {
   "cell_type": "code",
   "execution_count": 385,
   "id": "54651344-e1a6-4f74-8793-a72699ff157a",
   "metadata": {},
   "outputs": [
    {
     "name": "stdin",
     "output_type": "stream",
     "text": [
      "Please enter your value for year:  2015\n",
      "Please enter your value for U5 Deaths per 1000:  34\n",
      "Please enter your value for adult mortality rate:  95\n",
      "Please enter your value for alcohol consumption:  64\n",
      "Please enter your value for hepatitis B immunization (%):  37\n",
      "Please enter your value for BMI:  64\n",
      "Please enter your value for polio immunization (%):  84\n",
      "Please enter your value for diphtheria immunization (%):  67\n",
      "Please enter your value for HIV per 1000:  94\n",
      "Please enter your value for thinness between 10-19:  64\n",
      "Please enter your value for schooling years:  13\n",
      "Please enter your value for economy status (Developed or Developing):  Developed\n",
      "Please enter your value for region:  Asia\n",
      "Please enter your value for GDP:  46821\n"
     ]
    },
    {
     "name": "stdout",
     "output_type": "stream",
     "text": [
      "Year: 2015\n",
      "U5 Deaths Per 1000: 34\n",
      "Adult Mortality Rate: 95\n",
      "Alcohol Consumption: 64\n",
      "Hepatitis B Immunization (%): 37\n",
      "Bmi: 64\n",
      "Polio Immunization (%): 84\n",
      "Diphtheria Immunization (%): 67\n",
      "Hiv Per 1000: 94\n",
      "Thinness Between 10-19: 64\n",
      "Schooling Years: 13\n",
      "Economy Status (Developed Or Developing): Developed\n",
      "Region: Asia\n",
      "Gdp: 46821\n"
     ]
    }
   ],
   "source": [
    "user_inputs_1()"
   ]
  },
  {
   "cell_type": "code",
   "execution_count": 387,
   "id": "cb5b6625-37a4-47f7-ba01-167ffb1aa584",
   "metadata": {},
   "outputs": [
    {
     "data": {
      "text/html": [
       "<div>\n",
       "<style scoped>\n",
       "    .dataframe tbody tr th:only-of-type {\n",
       "        vertical-align: middle;\n",
       "    }\n",
       "\n",
       "    .dataframe tbody tr th {\n",
       "        vertical-align: top;\n",
       "    }\n",
       "\n",
       "    .dataframe thead th {\n",
       "        text-align: right;\n",
       "    }\n",
       "</style>\n",
       "<table border=\"1\" class=\"dataframe\">\n",
       "  <thead>\n",
       "    <tr style=\"text-align: right;\">\n",
       "      <th></th>\n",
       "      <th>year</th>\n",
       "      <th>U5 Deaths per 1000</th>\n",
       "      <th>adult mortality rate</th>\n",
       "      <th>alcohol consumption</th>\n",
       "      <th>hepatitis B immunization (%)</th>\n",
       "      <th>BMI</th>\n",
       "      <th>polio immunization (%)</th>\n",
       "      <th>diphtheria immunization (%)</th>\n",
       "      <th>HIV per 1000</th>\n",
       "      <th>thinness between 10-19</th>\n",
       "      <th>schooling years</th>\n",
       "      <th>economy status (Developed or Developing)</th>\n",
       "      <th>region</th>\n",
       "      <th>GDP</th>\n",
       "    </tr>\n",
       "  </thead>\n",
       "  <tbody>\n",
       "    <tr>\n",
       "      <th>0</th>\n",
       "      <td>2015</td>\n",
       "      <td>34</td>\n",
       "      <td>95</td>\n",
       "      <td>64</td>\n",
       "      <td>37</td>\n",
       "      <td>64</td>\n",
       "      <td>84</td>\n",
       "      <td>67</td>\n",
       "      <td>94</td>\n",
       "      <td>64</td>\n",
       "      <td>13</td>\n",
       "      <td>Developed</td>\n",
       "      <td>Asia</td>\n",
       "      <td>46821</td>\n",
       "    </tr>\n",
       "  </tbody>\n",
       "</table>\n",
       "</div>"
      ],
      "text/plain": [
       "   year  U5 Deaths per 1000  adult mortality rate  alcohol consumption  \\\n",
       "0  2015                  34                    95                   64   \n",
       "\n",
       "   hepatitis B immunization (%)  BMI  polio immunization (%)  \\\n",
       "0                            37   64                      84   \n",
       "\n",
       "   diphtheria immunization (%)  HIV per 1000  thinness between 10-19  \\\n",
       "0                           67            94                      64   \n",
       "\n",
       "   schooling years economy status (Developed or Developing) region    GDP  \n",
       "0               13                                Developed   Asia  46821  "
      ]
     },
     "execution_count": 387,
     "metadata": {},
     "output_type": "execute_result"
    }
   ],
   "source": [
    "input_df.head()"
   ]
  }
 ],
 "metadata": {
  "kernelspec": {
   "display_name": "Python 3 (ipykernel)",
   "language": "python",
   "name": "python3"
  },
  "language_info": {
   "codemirror_mode": {
    "name": "ipython",
    "version": 3
   },
   "file_extension": ".py",
   "mimetype": "text/x-python",
   "name": "python",
   "nbconvert_exporter": "python",
   "pygments_lexer": "ipython3",
   "version": "3.12.7"
  }
 },
 "nbformat": 4,
 "nbformat_minor": 5
}
