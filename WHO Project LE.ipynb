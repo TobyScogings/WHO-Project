{
 "cells": [
  {
   "cell_type": "code",
   "execution_count": 1,
   "id": "a5fd36d1-d583-448f-bca2-78a942267d81",
   "metadata": {},
   "outputs": [],
   "source": [
    "# Import Libraries\n",
    "import pandas as pd\n",
    "import numpy as np\n",
    "from sklearn.model_selection import train_test_split \n",
    "from sklearn.preprocessing import StandardScaler, RobustScaler, MinMaxScaler\n",
    "import statsmodels.api as sm \n",
    "import statsmodels.tools\n",
    "import seaborn as sns #pretty visualisations\n",
    "import matplotlib.pyplot as plt\n",
    "import re"
   ]
  },
  {
   "cell_type": "code",
   "execution_count": 2,
   "id": "a0c63faa-4246-42ea-9a3a-aac3b866ba62",
   "metadata": {},
   "outputs": [],
   "source": [
    "# Read in data\n",
    "df = pd.read_csv('Life Expectancy Data.csv')"
   ]
  },
  {
   "cell_type": "code",
   "execution_count": null,
   "id": "4b3583b8-761a-40de-b7de-7016ea685d58",
   "metadata": {},
   "outputs": [],
   "source": [
    "df.head()"
   ]
  },
  {
   "cell_type": "code",
   "execution_count": null,
   "id": "0dbdb36f-1998-4060-9d47-55a53ee7d918",
   "metadata": {
    "tags": []
   },
   "outputs": [],
   "source": [
    "# Check for nulls\n",
    "df.isnull().sum()"
   ]
  },
  {
   "cell_type": "code",
   "execution_count": null,
   "id": "1c9bf8e8-e595-4f5c-86c2-b87a260eb570",
   "metadata": {
    "tags": []
   },
   "outputs": [],
   "source": [
    "# Check Datatypes \n",
    "df.dtypes"
   ]
  },
  {
   "cell_type": "code",
   "execution_count": null,
   "id": "0ad3335a-e4e6-4b0d-976d-8f0ba50ba376",
   "metadata": {},
   "outputs": [],
   "source": [
    "# Check number of observations\n",
    "df.shape"
   ]
  },
  {
   "cell_type": "code",
   "execution_count": null,
   "id": "7f4e61d4-acc0-4d2b-ab00-65710e4af150",
   "metadata": {},
   "outputs": [],
   "source": [
    "df.describe()"
   ]
  },
  {
   "cell_type": "markdown",
   "id": "548352e1-1c76-4d74-8dce-4540f512aa8b",
   "metadata": {},
   "source": [
    "## Train Test Split"
   ]
  },
  {
   "cell_type": "code",
   "execution_count": 3,
   "id": "6ed278a0-f0b7-486a-83af-5370d03bc338",
   "metadata": {},
   "outputs": [],
   "source": [
    "# Allocate features and target column\n",
    "feature_cols = list(df.columns)\n",
    "feature_cols.remove('Life_expectancy')"
   ]
  },
  {
   "cell_type": "code",
   "execution_count": 4,
   "id": "fe77e7bd-004b-40b6-96a5-f47b7d2d3d3e",
   "metadata": {},
   "outputs": [],
   "source": [
    "# Assign to X and y\n",
    "X = df[feature_cols]\n",
    "y = df['Life_expectancy']"
   ]
  },
  {
   "cell_type": "code",
   "execution_count": 5,
   "id": "e50f044b-147b-4b24-9941-0e936c31c08a",
   "metadata": {},
   "outputs": [],
   "source": [
    "# Train test split the data\n",
    "X_train, X_test, y_train, y_test = train_test_split (X,  y, test_size = 0.2, random_state = 10)"
   ]
  },
  {
   "cell_type": "code",
   "execution_count": 6,
   "id": "822c87ff-57d4-4bd7-a879-99fe2a2ee92e",
   "metadata": {},
   "outputs": [
    {
     "name": "stdout",
     "output_type": "stream",
     "text": [
      "(2291, 20)\n",
      "(573,)\n"
     ]
    }
   ],
   "source": [
    "# check split worked\n",
    "print(X_train.shape)\n",
    "print(y_test.shape)"
   ]
  },
  {
   "cell_type": "code",
   "execution_count": 7,
   "id": "31ff61ac-1809-488a-9a76-8eb357b3a463",
   "metadata": {},
   "outputs": [
    {
     "data": {
      "text/plain": [
       "True"
      ]
     },
     "execution_count": 7,
     "metadata": {},
     "output_type": "execute_result"
    }
   ],
   "source": [
    "#X_train.shape[0] == y_train.shape[0]\n",
    "X_test.shape[0] == y_test.shape[0]"
   ]
  },
  {
   "cell_type": "code",
   "execution_count": null,
   "id": "a9f2e567-8895-4103-bced-651d6b26f695",
   "metadata": {},
   "outputs": [],
   "source": [
    "X_train.head()"
   ]
  },
  {
   "cell_type": "markdown",
   "id": "19793bd7-447b-4fe7-9c1a-1a9e70b089dd",
   "metadata": {},
   "source": [
    "## EDA"
   ]
  },
  {
   "cell_type": "code",
   "execution_count": null,
   "id": "eba2bf51-57b9-43d4-81b9-50c12a53b6c6",
   "metadata": {},
   "outputs": [],
   "source": [
    "df.describe()"
   ]
  },
  {
   "cell_type": "code",
   "execution_count": null,
   "id": "d29a5d44-63cf-4322-a2d1-bf49cfafdaa2",
   "metadata": {
    "tags": []
   },
   "outputs": [],
   "source": [
    "## Correlations\n",
    "sns.heatmap(df.corr(numeric_only = True), \n",
    "            annot = True,\n",
    "           cmap = 'rocket_r',\n",
    "           vmin = -1,\n",
    "           vmax = 1,\n",
    "           fmt = '.2',\n",
    "           mask = np.triu(df.corr(numeric_only = True)))\n",
    "\n",
    "plt.show()"
   ]
  },
  {
   "cell_type": "markdown",
   "id": "fb546c55-845e-4f37-887e-82d2d3f69ba8",
   "metadata": {},
   "source": [
    "### BMI"
   ]
  },
  {
   "cell_type": "code",
   "execution_count": null,
   "id": "55c8403f-7398-49e7-96e6-31fa86b334b6",
   "metadata": {
    "tags": []
   },
   "outputs": [],
   "source": [
    "# Scatterplot of BMI vs Life Expectancy\n",
    "sns.scatterplot(data = df, x = 'Life_expectancy', y= 'BMI')\n",
    "plt.show()\n",
    "\n",
    "# Boxplot of BMI \n",
    "plt.figure(figsize = (20, 5))\n",
    "sns.boxplot(data = df['BMI'],\n",
    "            orient = 'h')\n",
    "plt.show()"
   ]
  },
  {
   "cell_type": "markdown",
   "id": "5108965f-736b-4943-9f1d-9b9cf07edf6e",
   "metadata": {
    "tags": []
   },
   "source": [
    "### GDP_per_capita\n",
    "* Exponential curve\n",
    "* Will need transforming - log"
   ]
  },
  {
   "cell_type": "code",
   "execution_count": null,
   "id": "f305a42b-df08-47bf-8bcf-88ba4bfe179f",
   "metadata": {
    "tags": []
   },
   "outputs": [],
   "source": [
    "sns.scatterplot(data = df, x= 'Life_expectancy', y = 'GDP_per_capita')\n",
    "plt.show()"
   ]
  },
  {
   "cell_type": "markdown",
   "id": "40dd4d5e-bac5-4f28-a23f-e519e61fade4",
   "metadata": {},
   "source": [
    "### Schooling\n",
    "* Relatively strong correlation"
   ]
  },
  {
   "cell_type": "code",
   "execution_count": null,
   "id": "6ff7c678-6efb-43d7-8f6f-8a2e5b8fefb1",
   "metadata": {
    "tags": []
   },
   "outputs": [],
   "source": [
    "sns.scatterplot(data =df, x ='Life_expectancy',y='Schooling')\n",
    "plt.show()"
   ]
  },
  {
   "cell_type": "markdown",
   "id": "9a2406e8-10f0-41c3-9400-4318a9383e08",
   "metadata": {},
   "source": [
    "### Polio\n",
    "\n",
    "* unsure on whether this is linear really?\n",
    "* Some outliers"
   ]
  },
  {
   "cell_type": "code",
   "execution_count": null,
   "id": "32790794-50a4-4718-bf8e-12f2d209b246",
   "metadata": {
    "tags": []
   },
   "outputs": [],
   "source": [
    "sns.scatterplot(data = df, x = 'Life_expectancy', y= 'Polio')\n",
    "plt.show()\n",
    "\n",
    "plt.figure(figsize = (20, 5))\n",
    "sns.boxplot(data = df['Polio'],\n",
    "            orient = 'h')\n",
    "plt.show()"
   ]
  },
  {
   "cell_type": "markdown",
   "id": "04d01cd8-5205-4e26-9af3-6c26ebe6d94c",
   "metadata": {},
   "source": [
    "### Strong correlation between Diphtheria and Polio "
   ]
  },
  {
   "cell_type": "code",
   "execution_count": null,
   "id": "308c0e0b-d63e-4be5-95f4-cbe1af9f25e2",
   "metadata": {
    "tags": []
   },
   "outputs": [],
   "source": [
    "sns.scatterplot(data = df, x= 'Diphtheria', y ='Polio')\n",
    "plt.show()"
   ]
  },
  {
   "cell_type": "markdown",
   "id": "ac4e950d-5916-4867-b418-2e26510cee9f",
   "metadata": {
    "tags": []
   },
   "source": [
    "### Strong correlation between thinnness of 5-9yrs and 10-19yrs\n",
    "\n",
    "* Linear relationship\n",
    "* Some outliers in both variables\n",
    "* Potential of Multicollinearity"
   ]
  },
  {
   "cell_type": "code",
   "execution_count": null,
   "id": "fa1695f8-d7cd-4308-b959-51e72f9ba515",
   "metadata": {
    "tags": []
   },
   "outputs": [],
   "source": [
    "sns.scatterplot(data = df, x ='Thinness_ten_nineteen_years', y= 'Thinness_five_nine_years')\n",
    "plt.show()\n",
    "\n",
    "#boxplot thinness 10-19\n",
    "plt.figure(figsize = (20, 5))\n",
    "sns.boxplot(data = df['Thinness_ten_nineteen_years'],\n",
    "            orient = 'h')\n",
    "plt.show()\n",
    "\n",
    "# boxplot for thinness 5-9\n",
    "plt.figure(figsize = (20, 5))\n",
    "sns.boxplot(data = df['Thinness_five_nine_years'],\n",
    "            orient = 'h')\n",
    "plt.show()"
   ]
  },
  {
   "cell_type": "markdown",
   "id": "2acc4cc3-a257-4f15-b5ac-f25efce8717d",
   "metadata": {},
   "source": [
    "## Feature Engineering "
   ]
  },
  {
   "cell_type": "code",
   "execution_count": null,
   "id": "9183a449-0cf3-42db-8e26-5f3e33cfe7c7",
   "metadata": {
    "tags": []
   },
   "outputs": [],
   "source": [
    "def feature_eng (df):\n",
    "    df = df.copy()\n",
    "\n",
    "    #removing columns\n",
    "    df = df.drop(columns = ['Country'])\n",
    "    df = df.drop(columns = ['Economy_status_Developing'])\n",
    "    df = df.drop(columns = ['Infant_deaths'])    \n",
    "    \n",
    "    #calculated field\n",
    "    df['avg_thin'] = (df['Thinness_five_nine_years'] + df['Thinness_ten_nineteen_years']) / 2\n",
    "    \n",
    "    #one hot encoding method\n",
    "    df = pd.get_dummies(df, columns = ['Region'], drop_first = True, prefix = 'Region', dtype=int)\n",
    "    \n",
    "    #rename region columns\n",
    "    df = df.rename(columns = {'Region_Asia' : 'Region_1',\n",
    "                              'Region_Central America and Caribbean' : 'Region_2',\n",
    "                              'Region_European Union' : 'Region_3',\n",
    "                              'Region_Middle East' : 'Region_4' ,\n",
    "                              'Region_North America' : 'Region_5',\n",
    "                              'Region_Oceania' : 'Region_6',\n",
    "                              'Region_Rest of Europe' : 'Region_7',\n",
    "                              'Region_South America': 'Region_8'})\n",
    "    \n",
    "    # logging exponential data\n",
    "    df['GDP_log'] = np.log(df['GDP_per_capita'])\n",
    "    \n",
    "    #scaling\n",
    "    scaler = StandardScaler()\n",
    "    df[df.columns] = scaler.fit_transform(df[df.columns])\n",
    "    \n",
    "    df = sm.add_constant(df)\n",
    "    return df"
   ]
  },
  {
   "cell_type": "code",
   "execution_count": null,
   "id": "f8b0dc7b-3c7a-422a-8842-c169ba57855d",
   "metadata": {
    "tags": []
   },
   "outputs": [],
   "source": [
    "X_train_fe = feature_eng(X_train)"
   ]
  },
  {
   "cell_type": "code",
   "execution_count": null,
   "id": "e484dc99-0cbd-4bd3-b058-04b052c5c2c5",
   "metadata": {
    "tags": []
   },
   "outputs": [],
   "source": [
    "X_train_fe.head()"
   ]
  },
  {
   "cell_type": "code",
   "execution_count": null,
   "id": "e3fcde7a-f34f-4f1e-b240-1850d2d9595c",
   "metadata": {
    "tags": []
   },
   "outputs": [],
   "source": [
    "# Check no nulls in our engineered data\n",
    "X_train_fe.isnull().sum()"
   ]
  },
  {
   "cell_type": "code",
   "execution_count": null,
   "id": "3848e39d-8594-43f7-94ef-f2bedcace8d0",
   "metadata": {
    "tags": []
   },
   "outputs": [],
   "source": [
    "# Check datatypes of our engineered data\n",
    "X_train_fe.dtypes"
   ]
  },
  {
   "cell_type": "code",
   "execution_count": null,
   "id": "dbd7c974-41bd-408f-a549-fb77f391a304",
   "metadata": {
    "jupyter": {
     "source_hidden": true
    },
    "tags": []
   },
   "outputs": [],
   "source": [
    "plt.figure(figsize = (11, 11))\n",
    "sns.heatmap(X_train_fe.corr(numeric_only = True), \n",
    "            annot = True,\n",
    "            cmap = 'rocket_r',\n",
    "            vmin = -1,\n",
    "            vmax = 1,\n",
    "            fmt = '.1',\n",
    "            mask = np.triu(X_train_fe.corr(numeric_only = True)))\n",
    " \n",
    "plt.show()"
   ]
  },
  {
   "cell_type": "code",
   "execution_count": null,
   "id": "97f84df5-10e3-4e3f-887f-0dad954e4350",
   "metadata": {
    "tags": []
   },
   "outputs": [],
   "source": [
    "#remove population, measles - high p-values\n",
    "#remove alcohol consumptoin reduced region_middle_east's p-value!!\n",
    "\n",
    "feature_cols = ['const', 'Year','Under_five_deaths', 'Adult_mortality','GDP_log',\n",
    "                #'Measles', 'population_mln', 'Alcohol_consumption',\n",
    "                  'Polio','Diphtheria','BMI','Hepatitis_B',\n",
    "                 'Incidents_HIV', 'avg_thin', 'GDP_per_capita',\n",
    "                 'Schooling', 'Economy_status_Developed', 'Region_1',\n",
    "                 'Region_2','Region_3', 'Region_4','Region_5','Region_6','Region_7','Region_8']\n"
   ]
  },
  {
   "cell_type": "code",
   "execution_count": null,
   "id": "c49a02ad-ca2a-42c2-9c5a-3cc59db32f54",
   "metadata": {
    "tags": []
   },
   "outputs": [],
   "source": [
    "lin_reg = sm .OLS (y_train, X_train_fe [feature_cols])\n",
    "results = lin_reg.fit()\n",
    "results.summary()"
   ]
  },
  {
   "cell_type": "code",
   "execution_count": null,
   "id": "c272b388-6ba9-42a2-95c5-325c22bb2e2e",
   "metadata": {
    "tags": []
   },
   "outputs": [],
   "source": [
    "y_pred = results.predict(X_train_fe[feature_cols])\n",
    "rmse = statsmodels.tools.eval_measures.rmse(y_train,y_pred)\n",
    "print(rmse)\n"
   ]
  },
  {
   "cell_type": "code",
   "execution_count": null,
   "id": "2de20a14-d058-4ed5-aa6f-f175517fb9a2",
   "metadata": {
    "tags": []
   },
   "outputs": [],
   "source": [
    "X_test_fe = feature_eng(X_test)\n",
    "X_test_fe = X_test_fe[feature_cols]"
   ]
  },
  {
   "cell_type": "code",
   "execution_count": null,
   "id": "2c7f9688-ab3b-485e-a1ca-2cb3fcfb6795",
   "metadata": {
    "tags": []
   },
   "outputs": [],
   "source": [
    "y_test_pred = results.predict(X_test_fe)\n",
    "rmse = statsmodels.tools.eval_measures.rmse(y_test, y_test_pred)\n",
    "print(rmse)"
   ]
  },
  {
   "cell_type": "markdown",
   "id": "9254040a-57e7-45f8-821f-f2241878f002",
   "metadata": {},
   "source": [
    "### BINS"
   ]
  },
  {
   "cell_type": "code",
   "execution_count": null,
   "id": "4fdebbe1-8d14-47e3-ad90-a3e292604bd4",
   "metadata": {
    "tags": []
   },
   "outputs": [],
   "source": [
    "df['Adult_mortality'].describe()"
   ]
  },
  {
   "cell_type": "code",
   "execution_count": null,
   "id": "ebe8f8ba-0198-48a2-a7aa-98a6a9b440f7",
   "metadata": {
    "tags": []
   },
   "outputs": [],
   "source": []
  },
  {
   "cell_type": "code",
   "execution_count": null,
   "id": "9d9541aa-d4ed-4dfd-bc55-033d5eda64f8",
   "metadata": {
    "tags": []
   },
   "outputs": [],
   "source": [
    "df"
   ]
  },
  {
   "cell_type": "markdown",
   "id": "db8e8417-9d24-4347-98c5-81be6874318f",
   "metadata": {},
   "source": [
    "## Sensitive Model"
   ]
  },
  {
   "cell_type": "code",
   "execution_count": 17,
   "id": "c0e69d33-fc62-4a6d-8b62-3a83901b0e5d",
   "metadata": {
    "tags": []
   },
   "outputs": [],
   "source": [
    "def feature_eng (df):\n",
    "    df = df.copy()\n",
    "\n",
    "    #removing columns\n",
    "    df = df.drop(columns = ['Country'])\n",
    "    df = df.drop(columns = ['Economy_status_Developing'])\n",
    "    df = df.drop(columns = ['Infant_deaths'])   \n",
    "    \n",
    "    #calculated field\n",
    "    df['avg_thin'] = (df['Thinness_five_nine_years'] + df['Thinness_ten_nineteen_years']) / 2\n",
    "    \n",
    "    ## Bins for adult mortality\n",
    "    # group adult mortalities into low, medium, and high\n",
    "    low_percentile = df[\"Adult_mortality\"].quantile(0.33)\n",
    "    high_percentile = df[\"Adult_mortality\"].quantile(0.66)\n",
    "\n",
    "    # Bin function based on percentiles for adult mortalities\n",
    "    def adult_mortality_bins(value):\n",
    "        if value <= low_percentile:\n",
    "            return 'Low'\n",
    "        elif value <= high_percentile:\n",
    "            return 'Medium'\n",
    "        else:\n",
    "            return 'High'\n",
    "    \n",
    "    #apply bin function to adult mortalities\n",
    "    df[\"Adult_mortality_bins\"] = df[\"Adult_mortality\"].apply(adult_mortality_bins)\n",
    "    \n",
    "    ## Bins for Under_five_deaths\n",
    "    # group adult mortalities into low, medium, and high\n",
    "    low_percentile = df[\"Under_five_deaths\"].quantile(0.33)\n",
    "    high_percentile = df[\"Under_five_deaths\"].quantile(0.66)\n",
    "\n",
    "    # Bin function based on percentiles for infant mortalities\n",
    "    def under5_deaths_bins(value):\n",
    "        if value <= low_percentile:\n",
    "            return 'Low'\n",
    "        elif value <= high_percentile:\n",
    "            return 'Medium'\n",
    "        else:\n",
    "            return 'High'\n",
    "    \n",
    "    #apply bin function to under 5 deaths\n",
    "    df['Under_five_deaths_bins'] = df['Under_five_deaths'].apply(under5_deaths_bins)\n",
    "    \n",
    "    #one hot encoding method\n",
    "    df = pd.get_dummies(df, columns = ['Region'], drop_first = True, prefix = 'Region', dtype=int)\n",
    "    df = pd.get_dummies(df, columns = ['Adult_mortality_bins'], drop_first = True, prefix = 'Adult_mortality', dtype=int)\n",
    "    df = pd.get_dummies(df, columns = ['Under_five_deaths_bins'], drop_first = True, prefix = 'Under_five_deaths', dtype=int)\n",
    "    \n",
    "    #rename region columns\n",
    "    df = df.rename(columns = {'Region_Asia' : 'Region_1',\n",
    "                              'Region_Central America and Caribbean' : 'Region_2',\n",
    "                              'Region_European Union' : 'Region_3',\n",
    "                              'Region_Middle East' : 'Region_4' ,\n",
    "                              'Region_North America' : 'Region_5',\n",
    "                              'Region_Oceania' : 'Region_6',\n",
    "                              'Region_Rest of Europe' : 'Region_7',\n",
    "                              'Region_South America': 'Region_8'})\n",
    "    \n",
    "    # logging exponential data\n",
    "    df['GDP_log'] = np.log(df['GDP_per_capita'])\n",
    "    \n",
    "    #scaling\n",
    "    scaler = StandardScaler()\n",
    "    df[df.columns] = scaler.fit_transform(df[df.columns])\n",
    "    \n",
    "    df = sm.add_constant(df)\n",
    "    return df"
   ]
  },
  {
   "cell_type": "code",
   "execution_count": 19,
   "id": "6bbcd4d6-fd47-484e-b434-d60b943901eb",
   "metadata": {
    "tags": []
   },
   "outputs": [],
   "source": [
    "X_train_fe = feature_eng(X_train)"
   ]
  },
  {
   "cell_type": "code",
   "execution_count": 21,
   "id": "904dcfe6-a7da-44c0-8ce2-d2b1ef698ece",
   "metadata": {
    "tags": []
   },
   "outputs": [
    {
     "data": {
      "text/html": [
       "<div>\n",
       "<style scoped>\n",
       "    .dataframe tbody tr th:only-of-type {\n",
       "        vertical-align: middle;\n",
       "    }\n",
       "\n",
       "    .dataframe tbody tr th {\n",
       "        vertical-align: top;\n",
       "    }\n",
       "\n",
       "    .dataframe thead th {\n",
       "        text-align: right;\n",
       "    }\n",
       "</style>\n",
       "<table border=\"1\" class=\"dataframe\">\n",
       "  <thead>\n",
       "    <tr style=\"text-align: right;\">\n",
       "      <th></th>\n",
       "      <th>const</th>\n",
       "      <th>Year</th>\n",
       "      <th>Under_five_deaths</th>\n",
       "      <th>Adult_mortality</th>\n",
       "      <th>Alcohol_consumption</th>\n",
       "      <th>Hepatitis_B</th>\n",
       "      <th>Measles</th>\n",
       "      <th>BMI</th>\n",
       "      <th>Polio</th>\n",
       "      <th>Diphtheria</th>\n",
       "      <th>...</th>\n",
       "      <th>Region_4</th>\n",
       "      <th>Region_5</th>\n",
       "      <th>Region_6</th>\n",
       "      <th>Region_7</th>\n",
       "      <th>Region_8</th>\n",
       "      <th>Adult_mortality_Low</th>\n",
       "      <th>Adult_mortality_Medium</th>\n",
       "      <th>Under_five_deaths_Low</th>\n",
       "      <th>Under_five_deaths_Medium</th>\n",
       "      <th>GDP_log</th>\n",
       "    </tr>\n",
       "  </thead>\n",
       "  <tbody>\n",
       "    <tr>\n",
       "      <th>1680</th>\n",
       "      <td>1.0</td>\n",
       "      <td>-0.085510</td>\n",
       "      <td>0.137039</td>\n",
       "      <td>-0.351286</td>\n",
       "      <td>-1.083147</td>\n",
       "      <td>-0.020056</td>\n",
       "      <td>0.677760</td>\n",
       "      <td>-0.114456</td>\n",
       "      <td>-0.097782</td>\n",
       "      <td>-0.020917</td>\n",
       "      <td>...</td>\n",
       "      <td>-0.286691</td>\n",
       "      <td>-0.126351</td>\n",
       "      <td>-0.258979</td>\n",
       "      <td>-0.309270</td>\n",
       "      <td>-0.272166</td>\n",
       "      <td>-0.701789</td>\n",
       "      <td>1.424929</td>\n",
       "      <td>-0.702482</td>\n",
       "      <td>-0.701789</td>\n",
       "      <td>-1.289892</td>\n",
       "    </tr>\n",
       "    <tr>\n",
       "      <th>2675</th>\n",
       "      <td>1.0</td>\n",
       "      <td>-0.949477</td>\n",
       "      <td>2.151642</td>\n",
       "      <td>1.393963</td>\n",
       "      <td>0.383955</td>\n",
       "      <td>0.169292</td>\n",
       "      <td>-1.085028</td>\n",
       "      <td>-1.963016</td>\n",
       "      <td>-0.758410</td>\n",
       "      <td>-0.279951</td>\n",
       "      <td>...</td>\n",
       "      <td>-0.286691</td>\n",
       "      <td>-0.126351</td>\n",
       "      <td>-0.258979</td>\n",
       "      <td>-0.309270</td>\n",
       "      <td>-0.272166</td>\n",
       "      <td>-0.701789</td>\n",
       "      <td>-0.701789</td>\n",
       "      <td>-0.702482</td>\n",
       "      <td>-0.701789</td>\n",
       "      <td>-1.884274</td>\n",
       "    </tr>\n",
       "    <tr>\n",
       "      <th>2247</th>\n",
       "      <td>1.0</td>\n",
       "      <td>1.426430</td>\n",
       "      <td>-0.767615</td>\n",
       "      <td>-0.460535</td>\n",
       "      <td>1.372928</td>\n",
       "      <td>0.674219</td>\n",
       "      <td>0.624343</td>\n",
       "      <td>0.578754</td>\n",
       "      <td>0.100406</td>\n",
       "      <td>0.108600</td>\n",
       "      <td>...</td>\n",
       "      <td>-0.286691</td>\n",
       "      <td>-0.126351</td>\n",
       "      <td>-0.258979</td>\n",
       "      <td>-0.309270</td>\n",
       "      <td>-0.272166</td>\n",
       "      <td>-0.701789</td>\n",
       "      <td>1.424929</td>\n",
       "      <td>1.423524</td>\n",
       "      <td>-0.701789</td>\n",
       "      <td>0.295892</td>\n",
       "    </tr>\n",
       "    <tr>\n",
       "      <th>2088</th>\n",
       "      <td>1.0</td>\n",
       "      <td>0.778456</td>\n",
       "      <td>-0.893951</td>\n",
       "      <td>-1.106856</td>\n",
       "      <td>0.401571</td>\n",
       "      <td>0.232408</td>\n",
       "      <td>0.891432</td>\n",
       "      <td>0.624968</td>\n",
       "      <td>0.496783</td>\n",
       "      <td>0.497150</td>\n",
       "      <td>...</td>\n",
       "      <td>-0.286691</td>\n",
       "      <td>-0.126351</td>\n",
       "      <td>-0.258979</td>\n",
       "      <td>3.233419</td>\n",
       "      <td>-0.272166</td>\n",
       "      <td>1.424929</td>\n",
       "      <td>-0.701789</td>\n",
       "      <td>1.423524</td>\n",
       "      <td>-0.701789</td>\n",
       "      <td>1.943239</td>\n",
       "    </tr>\n",
       "    <tr>\n",
       "      <th>2331</th>\n",
       "      <td>1.0</td>\n",
       "      <td>1.426430</td>\n",
       "      <td>1.219916</td>\n",
       "      <td>1.172945</td>\n",
       "      <td>0.955194</td>\n",
       "      <td>-1.976650</td>\n",
       "      <td>-0.711103</td>\n",
       "      <td>-0.530382</td>\n",
       "      <td>-2.079666</td>\n",
       "      <td>-4.294968</td>\n",
       "      <td>...</td>\n",
       "      <td>-0.286691</td>\n",
       "      <td>-0.126351</td>\n",
       "      <td>-0.258979</td>\n",
       "      <td>-0.309270</td>\n",
       "      <td>-0.272166</td>\n",
       "      <td>-0.701789</td>\n",
       "      <td>-0.701789</td>\n",
       "      <td>-0.702482</td>\n",
       "      <td>-0.701789</td>\n",
       "      <td>0.744062</td>\n",
       "    </tr>\n",
       "  </tbody>\n",
       "</table>\n",
       "<p>5 rows × 31 columns</p>\n",
       "</div>"
      ],
      "text/plain": [
       "      const      Year  Under_five_deaths  Adult_mortality  \\\n",
       "1680    1.0 -0.085510           0.137039        -0.351286   \n",
       "2675    1.0 -0.949477           2.151642         1.393963   \n",
       "2247    1.0  1.426430          -0.767615        -0.460535   \n",
       "2088    1.0  0.778456          -0.893951        -1.106856   \n",
       "2331    1.0  1.426430           1.219916         1.172945   \n",
       "\n",
       "      Alcohol_consumption  Hepatitis_B   Measles       BMI     Polio  \\\n",
       "1680            -1.083147    -0.020056  0.677760 -0.114456 -0.097782   \n",
       "2675             0.383955     0.169292 -1.085028 -1.963016 -0.758410   \n",
       "2247             1.372928     0.674219  0.624343  0.578754  0.100406   \n",
       "2088             0.401571     0.232408  0.891432  0.624968  0.496783   \n",
       "2331             0.955194    -1.976650 -0.711103 -0.530382 -2.079666   \n",
       "\n",
       "      Diphtheria  ...  Region_4  Region_5  Region_6  Region_7  Region_8  \\\n",
       "1680   -0.020917  ... -0.286691 -0.126351 -0.258979 -0.309270 -0.272166   \n",
       "2675   -0.279951  ... -0.286691 -0.126351 -0.258979 -0.309270 -0.272166   \n",
       "2247    0.108600  ... -0.286691 -0.126351 -0.258979 -0.309270 -0.272166   \n",
       "2088    0.497150  ... -0.286691 -0.126351 -0.258979  3.233419 -0.272166   \n",
       "2331   -4.294968  ... -0.286691 -0.126351 -0.258979 -0.309270 -0.272166   \n",
       "\n",
       "      Adult_mortality_Low  Adult_mortality_Medium  Under_five_deaths_Low  \\\n",
       "1680            -0.701789                1.424929              -0.702482   \n",
       "2675            -0.701789               -0.701789              -0.702482   \n",
       "2247            -0.701789                1.424929               1.423524   \n",
       "2088             1.424929               -0.701789               1.423524   \n",
       "2331            -0.701789               -0.701789              -0.702482   \n",
       "\n",
       "      Under_five_deaths_Medium   GDP_log  \n",
       "1680                 -0.701789 -1.289892  \n",
       "2675                 -0.701789 -1.884274  \n",
       "2247                 -0.701789  0.295892  \n",
       "2088                 -0.701789  1.943239  \n",
       "2331                 -0.701789  0.744062  \n",
       "\n",
       "[5 rows x 31 columns]"
      ]
     },
     "execution_count": 21,
     "metadata": {},
     "output_type": "execute_result"
    }
   ],
   "source": [
    "X_train_fe.head()"
   ]
  },
  {
   "cell_type": "code",
   "execution_count": null,
   "id": "be3b1875-21fe-429c-b6e0-6c3151488762",
   "metadata": {
    "tags": []
   },
   "outputs": [],
   "source": [
    "# Check no nulls in our engineered data\n",
    "X_train_fe.isnull().sum()"
   ]
  },
  {
   "cell_type": "code",
   "execution_count": null,
   "id": "be615be5-5ce1-43a1-8a56-a016517ea78d",
   "metadata": {
    "tags": []
   },
   "outputs": [],
   "source": [
    "X_train_fe.dtypes"
   ]
  },
  {
   "cell_type": "code",
   "execution_count": 79,
   "id": "12c240bc-b1dd-4ced-affe-d2b1bb84a1f1",
   "metadata": {
    "tags": []
   },
   "outputs": [],
   "source": [
    "#minimal model              \n",
    "feature_cols = ['const', 'Year',\n",
    "                 'Population_mln',\n",
    "                 'GDP_per_capita','GDP_log', \n",
    "                 'Economy_status_Developed',\n",
    "                 'Adult_mortality_Low', 'Adult_mortality_Medium',\n",
    "                 'Under_five_deaths_Low','Under_five_deaths_Medium',\n",
    "                 #'Under_five_deaths', 'Adult_mortality', -sensitive data\n",
    "                 #'Measles', \n",
    "                 'Incidents_HIV',\n",
    "                 #'BMI', - high p_value\n",
    "                 #'Schooling', #-high p_value\n",
    "                 #'avg_thin',\n",
    "                 'Alcohol_consumption',\n",
    "                 'Polio','Hepatitis_B','Diphtheria',\n",
    "                 'Region_1', 'Region_2','Region_3', 'Region_4','Region_5','Region_6','Region_7','Region_8']\n"
   ]
  },
  {
   "cell_type": "code",
   "execution_count": 81,
   "id": "c5eeaaca-e9ab-4e04-bb21-2595664f5103",
   "metadata": {
    "tags": []
   },
   "outputs": [
    {
     "data": {
      "text/html": [
       "<table class=\"simpletable\">\n",
       "<caption>OLS Regression Results</caption>\n",
       "<tr>\n",
       "  <th>Dep. Variable:</th>     <td>Life_expectancy</td> <th>  R-squared:         </th> <td>   0.934</td> \n",
       "</tr>\n",
       "<tr>\n",
       "  <th>Model:</th>                   <td>OLS</td>       <th>  Adj. R-squared:    </th> <td>   0.933</td> \n",
       "</tr>\n",
       "<tr>\n",
       "  <th>Method:</th>             <td>Least Squares</td>  <th>  F-statistic:       </th> <td>   1523.</td> \n",
       "</tr>\n",
       "<tr>\n",
       "  <th>Date:</th>             <td>Thu, 05 Dec 2024</td> <th>  Prob (F-statistic):</th>  <td>  0.00</td>  \n",
       "</tr>\n",
       "<tr>\n",
       "  <th>Time:</th>                 <td>13:43:44</td>     <th>  Log-Likelihood:    </th> <td> -5272.6</td> \n",
       "</tr>\n",
       "<tr>\n",
       "  <th>No. Observations:</th>      <td>  2291</td>      <th>  AIC:               </th> <td>1.059e+04</td>\n",
       "</tr>\n",
       "<tr>\n",
       "  <th>Df Residuals:</th>          <td>  2269</td>      <th>  BIC:               </th> <td>1.072e+04</td>\n",
       "</tr>\n",
       "<tr>\n",
       "  <th>Df Model:</th>              <td>    21</td>      <th>                     </th>     <td> </td>    \n",
       "</tr>\n",
       "<tr>\n",
       "  <th>Covariance Type:</th>      <td>nonrobust</td>    <th>                     </th>     <td> </td>    \n",
       "</tr>\n",
       "</table>\n",
       "<table class=\"simpletable\">\n",
       "<tr>\n",
       "              <td></td>                <th>coef</th>     <th>std err</th>      <th>t</th>      <th>P>|t|</th>  <th>[0.025</th>    <th>0.975]</th>  \n",
       "</tr>\n",
       "<tr>\n",
       "  <th>const</th>                    <td>   68.8680</td> <td>    0.051</td> <td> 1357.264</td> <td> 0.000</td> <td>   68.769</td> <td>   68.968</td>\n",
       "</tr>\n",
       "<tr>\n",
       "  <th>Year</th>                     <td>    0.6341</td> <td>    0.053</td> <td>   12.074</td> <td> 0.000</td> <td>    0.531</td> <td>    0.737</td>\n",
       "</tr>\n",
       "<tr>\n",
       "  <th>Population_mln</th>           <td>   -0.0307</td> <td>    0.055</td> <td>   -0.558</td> <td> 0.577</td> <td>   -0.138</td> <td>    0.077</td>\n",
       "</tr>\n",
       "<tr>\n",
       "  <th>GDP_per_capita</th>           <td>   -0.1907</td> <td>    0.103</td> <td>   -1.858</td> <td> 0.063</td> <td>   -0.392</td> <td>    0.011</td>\n",
       "</tr>\n",
       "<tr>\n",
       "  <th>GDP_log</th>                  <td>    2.6412</td> <td>    0.147</td> <td>   17.970</td> <td> 0.000</td> <td>    2.353</td> <td>    2.929</td>\n",
       "</tr>\n",
       "<tr>\n",
       "  <th>Adult_mortality_Low</th>      <td>    3.1876</td> <td>    0.115</td> <td>   27.652</td> <td> 0.000</td> <td>    2.962</td> <td>    3.414</td>\n",
       "</tr>\n",
       "<tr>\n",
       "  <th>Adult_mortality_Medium</th>   <td>    1.8124</td> <td>    0.091</td> <td>   19.899</td> <td> 0.000</td> <td>    1.634</td> <td>    1.991</td>\n",
       "</tr>\n",
       "<tr>\n",
       "  <th>Under_five_deaths_Low</th>    <td>    1.3771</td> <td>    0.147</td> <td>    9.375</td> <td> 0.000</td> <td>    1.089</td> <td>    1.665</td>\n",
       "</tr>\n",
       "<tr>\n",
       "  <th>Under_five_deaths_Medium</th> <td>    1.1314</td> <td>    0.110</td> <td>   10.277</td> <td> 0.000</td> <td>    0.916</td> <td>    1.347</td>\n",
       "</tr>\n",
       "<tr>\n",
       "  <th>Incidents_HIV</th>            <td>   -2.1639</td> <td>    0.063</td> <td>  -34.362</td> <td> 0.000</td> <td>   -2.287</td> <td>   -2.040</td>\n",
       "</tr>\n",
       "<tr>\n",
       "  <th>Alcohol_consumption</th>      <td>   -0.2884</td> <td>    0.091</td> <td>   -3.174</td> <td> 0.002</td> <td>   -0.467</td> <td>   -0.110</td>\n",
       "</tr>\n",
       "<tr>\n",
       "  <th>Polio</th>                    <td>    1.1110</td> <td>    0.178</td> <td>    6.236</td> <td> 0.000</td> <td>    0.762</td> <td>    1.460</td>\n",
       "</tr>\n",
       "<tr>\n",
       "  <th>Hepatitis_B</th>              <td>   -0.3777</td> <td>    0.082</td> <td>   -4.585</td> <td> 0.000</td> <td>   -0.539</td> <td>   -0.216</td>\n",
       "</tr>\n",
       "<tr>\n",
       "  <th>Diphtheria</th>               <td>    0.7201</td> <td>    0.186</td> <td>    3.878</td> <td> 0.000</td> <td>    0.356</td> <td>    1.084</td>\n",
       "</tr>\n",
       "<tr>\n",
       "  <th>Region_1</th>                 <td>    1.0503</td> <td>    0.070</td> <td>   14.954</td> <td> 0.000</td> <td>    0.913</td> <td>    1.188</td>\n",
       "</tr>\n",
       "<tr>\n",
       "  <th>Region_2</th>                 <td>    1.0029</td> <td>    0.073</td> <td>   13.738</td> <td> 0.000</td> <td>    0.860</td> <td>    1.146</td>\n",
       "</tr>\n",
       "<tr>\n",
       "  <th>Region_3</th>                 <td>    1.2284</td> <td>    0.104</td> <td>   11.828</td> <td> 0.000</td> <td>    1.025</td> <td>    1.432</td>\n",
       "</tr>\n",
       "<tr>\n",
       "  <th>Region_4</th>                 <td>    0.3919</td> <td>    0.070</td> <td>    5.579</td> <td> 0.000</td> <td>    0.254</td> <td>    0.530</td>\n",
       "</tr>\n",
       "<tr>\n",
       "  <th>Region_5</th>                 <td>    0.2915</td> <td>    0.058</td> <td>    4.985</td> <td> 0.000</td> <td>    0.177</td> <td>    0.406</td>\n",
       "</tr>\n",
       "<tr>\n",
       "  <th>Region_6</th>                 <td>    0.5671</td> <td>    0.061</td> <td>    9.265</td> <td> 0.000</td> <td>    0.447</td> <td>    0.687</td>\n",
       "</tr>\n",
       "<tr>\n",
       "  <th>Region_7</th>                 <td>    1.0074</td> <td>    0.076</td> <td>   13.173</td> <td> 0.000</td> <td>    0.857</td> <td>    1.157</td>\n",
       "</tr>\n",
       "<tr>\n",
       "  <th>Region_8</th>                 <td>    0.9164</td> <td>    0.067</td> <td>   13.729</td> <td> 0.000</td> <td>    0.785</td> <td>    1.047</td>\n",
       "</tr>\n",
       "</table>\n",
       "<table class=\"simpletable\">\n",
       "<tr>\n",
       "  <th>Omnibus:</th>       <td>125.247</td> <th>  Durbin-Watson:     </th> <td>   1.955</td>\n",
       "</tr>\n",
       "<tr>\n",
       "  <th>Prob(Omnibus):</th> <td> 0.000</td>  <th>  Jarque-Bera (JB):  </th> <td> 250.297</td>\n",
       "</tr>\n",
       "<tr>\n",
       "  <th>Skew:</th>          <td>-0.379</td>  <th>  Prob(JB):          </th> <td>4.45e-55</td>\n",
       "</tr>\n",
       "<tr>\n",
       "  <th>Kurtosis:</th>      <td> 4.431</td>  <th>  Cond. No.          </th> <td>    11.1</td>\n",
       "</tr>\n",
       "</table><br/><br/>Notes:<br/>[1] Standard Errors assume that the covariance matrix of the errors is correctly specified."
      ],
      "text/latex": [
       "\\begin{center}\n",
       "\\begin{tabular}{lclc}\n",
       "\\toprule\n",
       "\\textbf{Dep. Variable:}              & Life\\_expectancy & \\textbf{  R-squared:         } &     0.934   \\\\\n",
       "\\textbf{Model:}                      &       OLS        & \\textbf{  Adj. R-squared:    } &     0.933   \\\\\n",
       "\\textbf{Method:}                     &  Least Squares   & \\textbf{  F-statistic:       } &     1523.   \\\\\n",
       "\\textbf{Date:}                       & Thu, 05 Dec 2024 & \\textbf{  Prob (F-statistic):} &     0.00    \\\\\n",
       "\\textbf{Time:}                       &     13:43:44     & \\textbf{  Log-Likelihood:    } &   -5272.6   \\\\\n",
       "\\textbf{No. Observations:}           &        2291      & \\textbf{  AIC:               } & 1.059e+04   \\\\\n",
       "\\textbf{Df Residuals:}               &        2269      & \\textbf{  BIC:               } & 1.072e+04   \\\\\n",
       "\\textbf{Df Model:}                   &          21      & \\textbf{                     } &             \\\\\n",
       "\\textbf{Covariance Type:}            &    nonrobust     & \\textbf{                     } &             \\\\\n",
       "\\bottomrule\n",
       "\\end{tabular}\n",
       "\\begin{tabular}{lcccccc}\n",
       "                                     & \\textbf{coef} & \\textbf{std err} & \\textbf{t} & \\textbf{P$> |$t$|$} & \\textbf{[0.025} & \\textbf{0.975]}  \\\\\n",
       "\\midrule\n",
       "\\textbf{const}                       &      68.8680  &        0.051     &  1357.264  &         0.000        &       68.769    &       68.968     \\\\\n",
       "\\textbf{Year}                        &       0.6341  &        0.053     &    12.074  &         0.000        &        0.531    &        0.737     \\\\\n",
       "\\textbf{Population\\_mln}             &      -0.0307  &        0.055     &    -0.558  &         0.577        &       -0.138    &        0.077     \\\\\n",
       "\\textbf{GDP\\_per\\_capita}            &      -0.1907  &        0.103     &    -1.858  &         0.063        &       -0.392    &        0.011     \\\\\n",
       "\\textbf{GDP\\_log}                    &       2.6412  &        0.147     &    17.970  &         0.000        &        2.353    &        2.929     \\\\\n",
       "\\textbf{Adult\\_mortality\\_Low}       &       3.1876  &        0.115     &    27.652  &         0.000        &        2.962    &        3.414     \\\\\n",
       "\\textbf{Adult\\_mortality\\_Medium}    &       1.8124  &        0.091     &    19.899  &         0.000        &        1.634    &        1.991     \\\\\n",
       "\\textbf{Under\\_five\\_deaths\\_Low}    &       1.3771  &        0.147     &     9.375  &         0.000        &        1.089    &        1.665     \\\\\n",
       "\\textbf{Under\\_five\\_deaths\\_Medium} &       1.1314  &        0.110     &    10.277  &         0.000        &        0.916    &        1.347     \\\\\n",
       "\\textbf{Incidents\\_HIV}              &      -2.1639  &        0.063     &   -34.362  &         0.000        &       -2.287    &       -2.040     \\\\\n",
       "\\textbf{Alcohol\\_consumption}        &      -0.2884  &        0.091     &    -3.174  &         0.002        &       -0.467    &       -0.110     \\\\\n",
       "\\textbf{Polio}                       &       1.1110  &        0.178     &     6.236  &         0.000        &        0.762    &        1.460     \\\\\n",
       "\\textbf{Hepatitis\\_B}                &      -0.3777  &        0.082     &    -4.585  &         0.000        &       -0.539    &       -0.216     \\\\\n",
       "\\textbf{Diphtheria}                  &       0.7201  &        0.186     &     3.878  &         0.000        &        0.356    &        1.084     \\\\\n",
       "\\textbf{Region\\_1}                   &       1.0503  &        0.070     &    14.954  &         0.000        &        0.913    &        1.188     \\\\\n",
       "\\textbf{Region\\_2}                   &       1.0029  &        0.073     &    13.738  &         0.000        &        0.860    &        1.146     \\\\\n",
       "\\textbf{Region\\_3}                   &       1.2284  &        0.104     &    11.828  &         0.000        &        1.025    &        1.432     \\\\\n",
       "\\textbf{Region\\_4}                   &       0.3919  &        0.070     &     5.579  &         0.000        &        0.254    &        0.530     \\\\\n",
       "\\textbf{Region\\_5}                   &       0.2915  &        0.058     &     4.985  &         0.000        &        0.177    &        0.406     \\\\\n",
       "\\textbf{Region\\_6}                   &       0.5671  &        0.061     &     9.265  &         0.000        &        0.447    &        0.687     \\\\\n",
       "\\textbf{Region\\_7}                   &       1.0074  &        0.076     &    13.173  &         0.000        &        0.857    &        1.157     \\\\\n",
       "\\textbf{Region\\_8}                   &       0.9164  &        0.067     &    13.729  &         0.000        &        0.785    &        1.047     \\\\\n",
       "\\bottomrule\n",
       "\\end{tabular}\n",
       "\\begin{tabular}{lclc}\n",
       "\\textbf{Omnibus:}       & 125.247 & \\textbf{  Durbin-Watson:     } &    1.955  \\\\\n",
       "\\textbf{Prob(Omnibus):} &   0.000 & \\textbf{  Jarque-Bera (JB):  } &  250.297  \\\\\n",
       "\\textbf{Skew:}          &  -0.379 & \\textbf{  Prob(JB):          } & 4.45e-55  \\\\\n",
       "\\textbf{Kurtosis:}      &   4.431 & \\textbf{  Cond. No.          } &     11.1  \\\\\n",
       "\\bottomrule\n",
       "\\end{tabular}\n",
       "%\\caption{OLS Regression Results}\n",
       "\\end{center}\n",
       "\n",
       "Notes: \\newline\n",
       " [1] Standard Errors assume that the covariance matrix of the errors is correctly specified."
      ],
      "text/plain": [
       "<class 'statsmodels.iolib.summary.Summary'>\n",
       "\"\"\"\n",
       "                            OLS Regression Results                            \n",
       "==============================================================================\n",
       "Dep. Variable:        Life_expectancy   R-squared:                       0.934\n",
       "Model:                            OLS   Adj. R-squared:                  0.933\n",
       "Method:                 Least Squares   F-statistic:                     1523.\n",
       "Date:                Thu, 05 Dec 2024   Prob (F-statistic):               0.00\n",
       "Time:                        13:43:44   Log-Likelihood:                -5272.6\n",
       "No. Observations:                2291   AIC:                         1.059e+04\n",
       "Df Residuals:                    2269   BIC:                         1.072e+04\n",
       "Df Model:                          21                                         \n",
       "Covariance Type:            nonrobust                                         \n",
       "============================================================================================\n",
       "                               coef    std err          t      P>|t|      [0.025      0.975]\n",
       "--------------------------------------------------------------------------------------------\n",
       "const                       68.8680      0.051   1357.264      0.000      68.769      68.968\n",
       "Year                         0.6341      0.053     12.074      0.000       0.531       0.737\n",
       "Population_mln              -0.0307      0.055     -0.558      0.577      -0.138       0.077\n",
       "GDP_per_capita              -0.1907      0.103     -1.858      0.063      -0.392       0.011\n",
       "GDP_log                      2.6412      0.147     17.970      0.000       2.353       2.929\n",
       "Adult_mortality_Low          3.1876      0.115     27.652      0.000       2.962       3.414\n",
       "Adult_mortality_Medium       1.8124      0.091     19.899      0.000       1.634       1.991\n",
       "Under_five_deaths_Low        1.3771      0.147      9.375      0.000       1.089       1.665\n",
       "Under_five_deaths_Medium     1.1314      0.110     10.277      0.000       0.916       1.347\n",
       "Incidents_HIV               -2.1639      0.063    -34.362      0.000      -2.287      -2.040\n",
       "Alcohol_consumption         -0.2884      0.091     -3.174      0.002      -0.467      -0.110\n",
       "Polio                        1.1110      0.178      6.236      0.000       0.762       1.460\n",
       "Hepatitis_B                 -0.3777      0.082     -4.585      0.000      -0.539      -0.216\n",
       "Diphtheria                   0.7201      0.186      3.878      0.000       0.356       1.084\n",
       "Region_1                     1.0503      0.070     14.954      0.000       0.913       1.188\n",
       "Region_2                     1.0029      0.073     13.738      0.000       0.860       1.146\n",
       "Region_3                     1.2284      0.104     11.828      0.000       1.025       1.432\n",
       "Region_4                     0.3919      0.070      5.579      0.000       0.254       0.530\n",
       "Region_5                     0.2915      0.058      4.985      0.000       0.177       0.406\n",
       "Region_6                     0.5671      0.061      9.265      0.000       0.447       0.687\n",
       "Region_7                     1.0074      0.076     13.173      0.000       0.857       1.157\n",
       "Region_8                     0.9164      0.067     13.729      0.000       0.785       1.047\n",
       "==============================================================================\n",
       "Omnibus:                      125.247   Durbin-Watson:                   1.955\n",
       "Prob(Omnibus):                  0.000   Jarque-Bera (JB):              250.297\n",
       "Skew:                          -0.379   Prob(JB):                     4.45e-55\n",
       "Kurtosis:                       4.431   Cond. No.                         11.1\n",
       "==============================================================================\n",
       "\n",
       "Notes:\n",
       "[1] Standard Errors assume that the covariance matrix of the errors is correctly specified.\n",
       "\"\"\""
      ]
     },
     "execution_count": 81,
     "metadata": {},
     "output_type": "execute_result"
    }
   ],
   "source": [
    "lin_reg = sm .OLS (y_train, X_train_fe [feature_cols])\n",
    "results = lin_reg.fit()\n",
    "results.summary()"
   ]
  },
  {
   "cell_type": "code",
   "execution_count": 77,
   "id": "672e1eef-e258-4271-b984-69873ee7ed9a",
   "metadata": {
    "tags": []
   },
   "outputs": [
    {
     "name": "stdout",
     "output_type": "stream",
     "text": [
      "2.3604515324830966\n"
     ]
    }
   ],
   "source": [
    "y_pred = results.predict(X_train_fe[feature_cols])\n",
    "rmse = statsmodels.tools.eval_measures.rmse(y_train,y_pred)\n",
    "print(rmse)"
   ]
  },
  {
   "cell_type": "code",
   "execution_count": 67,
   "id": "7ed12024-24e9-4ff2-aa45-ce4b1829f289",
   "metadata": {
    "tags": []
   },
   "outputs": [],
   "source": [
    "X_test_fe = feature_eng(X_test)\n",
    "X_test_fe = X_test_fe[feature_cols]"
   ]
  },
  {
   "cell_type": "code",
   "execution_count": 59,
   "id": "830ead3a-9f73-41fc-88b1-445ec947a200",
   "metadata": {
    "tags": []
   },
   "outputs": [
    {
     "name": "stdout",
     "output_type": "stream",
     "text": [
      "3.058012742115338\n"
     ]
    }
   ],
   "source": [
    "y_test_pred = results.predict(X_test_fe)\n",
    "rmse = statsmodels.tools.eval_measures.rmse(y_test, y_test_pred)\n",
    "print(rmse)"
   ]
  }
 ],
 "metadata": {
  "kernelspec": {
   "display_name": "Python 3 (ipykernel)",
   "language": "python",
   "name": "python3"
  },
  "language_info": {
   "codemirror_mode": {
    "name": "ipython",
    "version": 3
   },
   "file_extension": ".py",
   "mimetype": "text/x-python",
   "name": "python",
   "nbconvert_exporter": "python",
   "pygments_lexer": "ipython3",
   "version": "3.12.7"
  }
 },
 "nbformat": 4,
 "nbformat_minor": 5
}
